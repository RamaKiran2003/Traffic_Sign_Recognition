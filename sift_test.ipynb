{
 "cells": [
  {
   "cell_type": "code",
   "execution_count": 1,
   "id": "6dcbaa54",
   "metadata": {},
   "outputs": [],
   "source": [
    "#Importing the required libraries\n",
    "import os\n",
    "import cv2\n",
    "import numpy as np\n",
    "import time\n",
    "import matplotlib.pyplot as plt\n",
    "from sklearn.svm import SVC\n",
    "from sklearn.model_selection import train_test_split\n",
    "from sklearn.metrics import accuracy_score, confusion_matrix"
   ]
  },
  {
   "cell_type": "code",
   "execution_count": 7,
   "id": "bb40fb13",
   "metadata": {},
   "outputs": [],
   "source": [
    "cwd = os.getcwd()"
   ]
  },
  {
   "cell_type": "code",
   "execution_count": 8,
   "id": "dd5a10ed",
   "metadata": {},
   "outputs": [],
   "source": [
    "path = os.path.join(cwd, 'Train')"
   ]
  },
  {
   "cell_type": "code",
   "execution_count": 9,
   "id": "74db9529",
   "metadata": {},
   "outputs": [],
   "source": [
    "image_path = []\n",
    "for i in range(43):\n",
    "  dir = os.path.join(path, str(i))\n",
    "  for file in os.listdir(dir):\n",
    "    image_path.append(os.path.join(dir, file))\n"
   ]
  },
  {
   "cell_type": "code",
   "execution_count": 16,
   "id": "de662c52",
   "metadata": {},
   "outputs": [
    {
     "name": "stdout",
     "output_type": "stream",
     "text": [
      "\n",
      "Calculating for a threshold of 5\n"
     ]
    },
    {
     "ename": "AttributeError",
     "evalue": "module 'cv2' has no attribute 'xfeatures2d'",
     "output_type": "error",
     "traceback": [
      "\u001b[1;31m---------------------------------------------------------------------------\u001b[0m",
      "\u001b[1;31mAttributeError\u001b[0m                            Traceback (most recent call last)",
      "\u001b[1;32m~\\AppData\\Local\\Temp/ipykernel_17704/3140245186.py\u001b[0m in \u001b[0;36m<module>\u001b[1;34m\u001b[0m\n\u001b[0;32m     83\u001b[0m \u001b[1;32mfor\u001b[0m \u001b[0mi\u001b[0m \u001b[1;32min\u001b[0m \u001b[0mrange\u001b[0m\u001b[1;33m(\u001b[0m\u001b[1;36m5\u001b[0m\u001b[1;33m,\u001b[0m\u001b[1;36m26\u001b[0m\u001b[1;33m,\u001b[0m\u001b[1;36m5\u001b[0m\u001b[1;33m)\u001b[0m\u001b[1;33m:\u001b[0m\u001b[1;33m\u001b[0m\u001b[1;33m\u001b[0m\u001b[0m\n\u001b[0;32m     84\u001b[0m   \u001b[0mprint\u001b[0m\u001b[1;33m(\u001b[0m\u001b[1;34m'\\nCalculating for a threshold of {}'\u001b[0m\u001b[1;33m.\u001b[0m\u001b[0mformat\u001b[0m\u001b[1;33m(\u001b[0m\u001b[0mi\u001b[0m\u001b[1;33m)\u001b[0m\u001b[1;33m)\u001b[0m\u001b[1;33m\u001b[0m\u001b[1;33m\u001b[0m\u001b[0m\n\u001b[1;32m---> 85\u001b[1;33m   \u001b[0mdata\u001b[0m \u001b[1;33m=\u001b[0m \u001b[0mmain\u001b[0m\u001b[1;33m(\u001b[0m\u001b[0mi\u001b[0m\u001b[1;33m)\u001b[0m\u001b[1;33m\u001b[0m\u001b[1;33m\u001b[0m\u001b[0m\n\u001b[0m\u001b[0;32m     86\u001b[0m   \u001b[0maccuracy\u001b[0m\u001b[1;33m.\u001b[0m\u001b[0mappend\u001b[0m\u001b[1;33m(\u001b[0m\u001b[0mdata\u001b[0m\u001b[1;33m[\u001b[0m\u001b[1;36m0\u001b[0m\u001b[1;33m]\u001b[0m\u001b[1;33m)\u001b[0m\u001b[1;33m\u001b[0m\u001b[1;33m\u001b[0m\u001b[0m\n\u001b[0;32m     87\u001b[0m   \u001b[0mconf_mat\u001b[0m \u001b[1;33m=\u001b[0m \u001b[0mdata\u001b[0m\u001b[1;33m[\u001b[0m\u001b[1;36m1\u001b[0m\u001b[1;33m]\u001b[0m\u001b[1;33m\u001b[0m\u001b[1;33m\u001b[0m\u001b[0m\n",
      "\u001b[1;32m~\\AppData\\Local\\Temp/ipykernel_17704/3140245186.py\u001b[0m in \u001b[0;36mmain\u001b[1;34m(thresh)\u001b[0m\n\u001b[0;32m     19\u001b[0m   \u001b[1;32mfor\u001b[0m \u001b[0mfile\u001b[0m \u001b[1;32min\u001b[0m \u001b[0mimage_path\u001b[0m\u001b[1;33m:\u001b[0m\u001b[1;33m\u001b[0m\u001b[1;33m\u001b[0m\u001b[0m\n\u001b[0;32m     20\u001b[0m     \u001b[0mimg\u001b[0m \u001b[1;33m=\u001b[0m \u001b[0mcv2\u001b[0m\u001b[1;33m.\u001b[0m\u001b[0mimread\u001b[0m\u001b[1;33m(\u001b[0m\u001b[0mfile\u001b[0m\u001b[1;33m,\u001b[0m \u001b[1;36m0\u001b[0m\u001b[1;33m)\u001b[0m\u001b[1;33m\u001b[0m\u001b[1;33m\u001b[0m\u001b[0m\n\u001b[1;32m---> 21\u001b[1;33m     \u001b[0mimg_des\u001b[0m \u001b[1;33m=\u001b[0m \u001b[0mCalcFeatures\u001b[0m\u001b[1;33m(\u001b[0m\u001b[0mimg\u001b[0m\u001b[1;33m,\u001b[0m \u001b[0mthresh\u001b[0m\u001b[1;33m)\u001b[0m\u001b[1;33m\u001b[0m\u001b[1;33m\u001b[0m\u001b[0m\n\u001b[0m\u001b[0;32m     22\u001b[0m     \u001b[1;32mif\u001b[0m \u001b[0mimg_des\u001b[0m \u001b[1;32mis\u001b[0m \u001b[1;32mnot\u001b[0m \u001b[1;32mNone\u001b[0m\u001b[1;33m:\u001b[0m\u001b[1;33m\u001b[0m\u001b[1;33m\u001b[0m\u001b[0m\n\u001b[0;32m     23\u001b[0m       \u001b[0mfeatures\u001b[0m\u001b[1;33m.\u001b[0m\u001b[0mappend\u001b[0m\u001b[1;33m(\u001b[0m\u001b[0mimg_des\u001b[0m\u001b[1;33m)\u001b[0m\u001b[1;33m\u001b[0m\u001b[1;33m\u001b[0m\u001b[0m\n",
      "\u001b[1;32m~\\AppData\\Local\\Temp/ipykernel_17704/3140245186.py\u001b[0m in \u001b[0;36mCalcFeatures\u001b[1;34m(img, th)\u001b[0m\n\u001b[0;32m      5\u001b[0m \u001b[1;33m\u001b[0m\u001b[0m\n\u001b[0;32m      6\u001b[0m   \u001b[1;32mdef\u001b[0m \u001b[0mCalcFeatures\u001b[0m\u001b[1;33m(\u001b[0m\u001b[0mimg\u001b[0m\u001b[1;33m,\u001b[0m \u001b[0mth\u001b[0m\u001b[1;33m)\u001b[0m\u001b[1;33m:\u001b[0m\u001b[1;33m\u001b[0m\u001b[1;33m\u001b[0m\u001b[0m\n\u001b[1;32m----> 7\u001b[1;33m     \u001b[0msift\u001b[0m \u001b[1;33m=\u001b[0m \u001b[0mcv2\u001b[0m\u001b[1;33m.\u001b[0m\u001b[0mxfeatures2d\u001b[0m\u001b[1;33m.\u001b[0m\u001b[0mSIFT_create\u001b[0m\u001b[1;33m(\u001b[0m\u001b[0mth\u001b[0m\u001b[1;33m)\u001b[0m\u001b[1;33m\u001b[0m\u001b[1;33m\u001b[0m\u001b[0m\n\u001b[0m\u001b[0;32m      8\u001b[0m     \u001b[0mkp\u001b[0m\u001b[1;33m,\u001b[0m \u001b[0mdes\u001b[0m \u001b[1;33m=\u001b[0m \u001b[0msift\u001b[0m\u001b[1;33m.\u001b[0m\u001b[0mdetectAndCompute\u001b[0m\u001b[1;33m(\u001b[0m\u001b[0mimg\u001b[0m\u001b[1;33m,\u001b[0m \u001b[1;32mNone\u001b[0m\u001b[1;33m)\u001b[0m\u001b[1;33m\u001b[0m\u001b[1;33m\u001b[0m\u001b[0m\n\u001b[0;32m      9\u001b[0m     \u001b[1;32mreturn\u001b[0m \u001b[0mdes\u001b[0m\u001b[1;33m\u001b[0m\u001b[1;33m\u001b[0m\u001b[0m\n",
      "\u001b[1;31mAttributeError\u001b[0m: module 'cv2' has no attribute 'xfeatures2d'"
     ]
    }
   ],
   "source": [
    "def main(thresh):\n",
    "\n",
    "  t0 = time.time()\n",
    "\n",
    "\n",
    "  def CalcFeatures(img, th):\n",
    "    sift = cv2.xfeatures2d.SIFT_create(th)\n",
    "    kp, des = sift.detectAndCompute(img, None)\n",
    "    return des\n",
    "  \n",
    "  '''\n",
    "  All the files appended to the image_path list are passed through the\n",
    "  CalcFeatures functions which returns the descriptors which are \n",
    "  appended to the features list and then stacked vertically in the form\n",
    "  of a numpy array.\n",
    "  '''\n",
    "\n",
    "  features = []\n",
    "  for file in image_path:\n",
    "    img = cv2.imread(file, 0)\n",
    "    img_des = CalcFeatures(img, thresh)\n",
    "    if img_des is not None:\n",
    "      features.append(img_des)\n",
    "  features = np.vstack(features)\n",
    "\n",
    "  '''\n",
    "  K-Means clustering is then performed on the feature array obtained \n",
    "  from the previous step. The centres obtained after clustering are \n",
    "  further used for bagging of features.\n",
    "  '''\n",
    "\n",
    "  k = 150\n",
    "  criteria = (cv2.TERM_CRITERIA_EPS + cv2.TERM_CRITERIA_MAX_ITER, 10, 0.1)\n",
    "  flags = cv2.KMEANS_RANDOM_CENTERS\n",
    "  compactness, labels, centres = cv2.kmeans(features, k, None, criteria, 10, flags)\n",
    "\n",
    "  '''\n",
    "  The bag_of_features function assigns the features which are similar\n",
    "  to a specific cluster centre thus forming a Bag of Words approach.  \n",
    "  '''\n",
    "\n",
    "  def bag_of_features(features, centres, k = 500):\n",
    "      vec = np.zeros((1, k))\n",
    "      for i in range(features.shape[0]):\n",
    "          feat = features[i]\n",
    "          diff = np.tile(feat, (k, 1)) - centres\n",
    "          dist = pow(((pow(diff, 2)).sum(axis = 1)), 0.5)\n",
    "          idx_dist = dist.argsort()\n",
    "          idx = idx_dist[0]\n",
    "          vec[0][idx] += 1\n",
    "      return vec\n",
    "\n",
    "  labels = []\n",
    "  vec = []\n",
    "  for file in image_path:\n",
    "    img = cv2.imread(file, 0)\n",
    "    img_des = CalcFeatures(img, thresh)\n",
    "    if img_des is not None:\n",
    "      img_vec = bag_of_features(img_des, centres, k)\n",
    "      vec.append(img_vec)\n",
    "      labels.append(int(file[28]))\n",
    "  vec = np.vstack(vec)\n",
    "\n",
    "  '''\n",
    "  Splitting the data formed into test and split data and training the \n",
    "  SVM Classifier.\n",
    "  '''\n",
    "\n",
    "  X_train, X_test, y_train, y_test = train_test_split(vec, labels, test_size=0.2)\n",
    "  clf = SVC()\n",
    "  clf.fit(X_train, y_train)\n",
    "  preds = clf.predict(X_test)\n",
    "  acc = accuracy_score(y_test, preds)\n",
    "  conf_mat = confusion_matrix(y_test, preds)\n",
    "\n",
    "  t1 = time.time()\n",
    "  \n",
    "  return acc*100, conf_mat, (t1-t0)\n",
    "\n",
    "\n",
    "accuracy = []\n",
    "timer = []\n",
    "for i in range(5,26,5):\n",
    "  print('\\nCalculating for a threshold of {}'.format(i))\n",
    "  data = main(i)\n",
    "  accuracy.append(data[0])\n",
    "  conf_mat = data[1]\n",
    "  timer.append(data[2])\n",
    "  print('\\nAccuracy = {}\\nTime taken = {} sec\\nConfusion matrix :\\n{}'.format(data[0],data[2],data[1]))"
   ]
  },
  {
   "cell_type": "code",
   "execution_count": null,
   "id": "5397c0db",
   "metadata": {},
   "outputs": [],
   "source": []
  }
 ],
 "metadata": {
  "kernelspec": {
   "display_name": "Python 3 (ipykernel)",
   "language": "python",
   "name": "python3"
  },
  "language_info": {
   "codemirror_mode": {
    "name": "ipython",
    "version": 3
   },
   "file_extension": ".py",
   "mimetype": "text/x-python",
   "name": "python",
   "nbconvert_exporter": "python",
   "pygments_lexer": "ipython3",
   "version": "3.9.7"
  }
 },
 "nbformat": 4,
 "nbformat_minor": 5
}
