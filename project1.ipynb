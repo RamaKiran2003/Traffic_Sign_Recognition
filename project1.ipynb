{
 "cells": [
  {
   "cell_type": "code",
   "execution_count": 3,
   "id": "b3f3c2be",
   "metadata": {},
   "outputs": [],
   "source": [
    "import numpy as np \n",
    "import pandas as pd \n",
    "import matplotlib.pyplot as plt\n",
    "import tensorflow as tf\n",
    "from PIL import Image\n",
    "import os\n",
    "from sklearn.model_selection import train_test_split\n",
    "from keras.utils import to_categorical\n",
    "from keras.models import Sequential, load_model\n",
    "from keras.layers import Conv2D, MaxPool2D, Dense, Flatten, Dropout\n",
    "data = []\n",
    "labels = []\n",
    "classes = 43\n",
    "cur_path = os.getcwd()"
   ]
  },
  {
   "cell_type": "code",
   "execution_count": 4,
   "id": "2bbb0788",
   "metadata": {},
   "outputs": [],
   "source": [
    "#Retrieving the images and their labels \n",
    "for i in range(classes):\n",
    "    path = os.path.join(cur_path,'train',str(i))\n",
    "    images = os.listdir(path)\n",
    "    for a in images:\n",
    "        try:\n",
    "            image = Image.open(path + '\\\\'+ a)\n",
    "            image = image.resize((30,30))\n",
    "            image = np.array(image)\n",
    "            #sim = Image.fromarray(image)\n",
    "            data.append(image)\n",
    "            labels.append(i)\n",
    "        except:\n",
    "            print(\"Error loading image\")\n",
    "#Converting lists into numpy arrays\n",
    "data = np.array(data)\n",
    "labels = np.array(labels)"
   ]
  },
  {
   "cell_type": "code",
   "execution_count": 6,
   "id": "0b7928dd",
   "metadata": {},
   "outputs": [
    {
     "name": "stdout",
     "output_type": "stream",
     "text": [
      "(39209, 30, 30, 3) (39209,)\n",
      "(31367, 30, 30, 3) (7842, 30, 30, 3) (31367,) (7842,)\n"
     ]
    }
   ],
   "source": [
    "print(data.shape, labels.shape)\n",
    "#Splitting training and testing dataset\n",
    "X_train, X_test, y_train, y_test = train_test_split(data, labels, test_size=0.2, random_state=42)\n",
    "print(X_train.shape, X_test.shape, y_train.shape, y_test.shape)\n",
    "#Converting the labels into one hot encoding\n",
    "y_train = to_categorical(y_train, 43)\n",
    "y_test = to_categorical(y_test, 43)"
   ]
  },
  {
   "cell_type": "code",
   "execution_count": 7,
   "id": "1b880bff",
   "metadata": {},
   "outputs": [],
   "source": [
    "#Building the model\n",
    "model = Sequential()\n",
    "model.add(Conv2D(filters=32, kernel_size=(5,5), activation='relu', input_shape=X_train.shape[1:]))\n",
    "model.add(Conv2D(filters=32, kernel_size=(5,5), activation='relu'))\n",
    "model.add(MaxPool2D(pool_size=(2, 2)))\n",
    "model.add(Dropout(rate=0.25))\n",
    "model.add(Conv2D(filters=64, kernel_size=(3, 3), activation='relu'))\n",
    "model.add(Conv2D(filters=64, kernel_size=(3, 3), activation='relu'))\n",
    "model.add(MaxPool2D(pool_size=(2, 2)))\n",
    "model.add(Dropout(rate=0.25))\n",
    "model.add(Flatten())\n",
    "model.add(Dense(256, activation='relu'))\n",
    "model.add(Dropout(rate=0.5))\n",
    "model.add(Dense(43, activation='softmax'))\n",
    "#Compilation of the model\n",
    "model.compile(loss='categorical_crossentropy', optimizer='adam', metrics=['accuracy'])\n"
   ]
  },
  {
   "cell_type": "code",
   "execution_count": 8,
   "id": "f53b2660",
   "metadata": {},
   "outputs": [
    {
     "name": "stdout",
     "output_type": "stream",
     "text": [
      "Epoch 1/15\n",
      "981/981 [==============================] - 49s 49ms/step - loss: 2.3639 - accuracy: 0.3903 - val_loss: 0.7117 - val_accuracy: 0.8207\n",
      "Epoch 2/15\n",
      "981/981 [==============================] - 47s 48ms/step - loss: 0.9126 - accuracy: 0.7338 - val_loss: 0.3927 - val_accuracy: 0.9017\n",
      "Epoch 3/15\n",
      "981/981 [==============================] - 47s 48ms/step - loss: 0.6517 - accuracy: 0.8049 - val_loss: 0.2230 - val_accuracy: 0.9333\n",
      "Epoch 4/15\n",
      "981/981 [==============================] - 48s 48ms/step - loss: 0.5197 - accuracy: 0.8442 - val_loss: 0.1904 - val_accuracy: 0.9551\n",
      "Epoch 5/15\n",
      "981/981 [==============================] - 48s 49ms/step - loss: 0.4068 - accuracy: 0.8793 - val_loss: 0.1815 - val_accuracy: 0.9514\n",
      "Epoch 6/15\n",
      "981/981 [==============================] - 48s 49ms/step - loss: 0.3443 - accuracy: 0.8976 - val_loss: 0.1196 - val_accuracy: 0.9652\n",
      "Epoch 7/15\n",
      "981/981 [==============================] - 48s 49ms/step - loss: 0.3092 - accuracy: 0.9075 - val_loss: 0.0985 - val_accuracy: 0.9731\n",
      "Epoch 8/15\n",
      "981/981 [==============================] - 48s 49ms/step - loss: 0.2891 - accuracy: 0.9160 - val_loss: 0.1322 - val_accuracy: 0.9645\n",
      "Epoch 9/15\n",
      "981/981 [==============================] - 48s 49ms/step - loss: 0.2653 - accuracy: 0.9234 - val_loss: 0.0970 - val_accuracy: 0.9754\n",
      "Epoch 10/15\n",
      "981/981 [==============================] - 48s 49ms/step - loss: 0.2389 - accuracy: 0.9315 - val_loss: 0.0672 - val_accuracy: 0.9810\n",
      "Epoch 11/15\n",
      "981/981 [==============================] - 48s 48ms/step - loss: 0.2296 - accuracy: 0.9348 - val_loss: 0.0673 - val_accuracy: 0.9811\n",
      "Epoch 12/15\n",
      "981/981 [==============================] - 48s 49ms/step - loss: 0.2355 - accuracy: 0.9333 - val_loss: 0.0693 - val_accuracy: 0.9804\n",
      "Epoch 13/15\n",
      "981/981 [==============================] - 48s 49ms/step - loss: 0.2176 - accuracy: 0.9387 - val_loss: 0.0565 - val_accuracy: 0.9844\n",
      "Epoch 14/15\n",
      "981/981 [==============================] - 49s 50ms/step - loss: 0.2189 - accuracy: 0.9385 - val_loss: 0.0925 - val_accuracy: 0.9735\n",
      "Epoch 15/15\n",
      "981/981 [==============================] - 52s 53ms/step - loss: 0.2149 - accuracy: 0.9392 - val_loss: 0.0457 - val_accuracy: 0.9871\n"
     ]
    }
   ],
   "source": [
    "epochs = 15\n",
    "history = model.fit(X_train, y_train, batch_size=32, epochs=epochs, validation_data=(X_test, y_test))\n",
    "model.save(\"my_model.h5\")"
   ]
  },
  {
   "cell_type": "code",
   "execution_count": 9,
   "id": "d4dfed18",
   "metadata": {},
   "outputs": [
    {
     "data": {
      "image/png": "[encoded data removed]",
      "text/plain": [
       "<Figure size 432x288 with 1 Axes>"
      ]
     },
     "metadata": {
      "needs_background": "light"
     },
     "output_type": "display_data"
    }
   ],
   "source": [
    "#plotting graphs for accuracy \n",
    "plt.figure(0)\n",
    "plt.plot(history.history['accuracy'], label='training accuracy')\n",
    "plt.plot(history.history['val_accuracy'], label='val accuracy')\n",
    "plt.title('Accuracy')\n",
    "plt.xlabel('epochs')\n",
    "plt.ylabel('accuracy')\n",
    "plt.legend()\n",
    "plt.show()"
   ]
  },
  {
   "cell_type": "code",
   "execution_count": 10,
   "id": "4b6997ad",
   "metadata": {},
   "outputs": [
    {
     "data": {
      "image/png": "[encoded data removed]",
      "text/plain": [
       "<Figure size 432x288 with 1 Axes>"
      ]
     },
     "metadata": {
      "needs_background": "light"
     },
     "output_type": "display_data"
    }
   ],
   "source": [
    "\n",
    "plt.figure(1)\n",
    "plt.plot(history.history['loss'], label='training loss')\n",
    "plt.plot(history.history['val_loss'], label='val loss')\n",
    "plt.title('Loss')\n",
    "plt.xlabel('epochs')\n",
    "plt.ylabel('loss')\n",
    "plt.legend()\n",
    "plt.show()"
   ]
  },
  {
   "cell_type": "code",
   "execution_count": 34,
   "id": "132e4cf7",
   "metadata": {},
   "outputs": [
    {
     "name": "stdout",
     "output_type": "stream",
     "text": [
      "395/395 [==============================] - 3s 8ms/step\n",
      "0.9456057007125891\n"
     ]
    }
   ],
   "source": [
    "#testing accuracy on test dataset\n",
    "from sklearn.metrics import accuracy_score\n",
    "y_test = pd.read_csv('Test.csv')\n",
    "labels = y_test[\"ClassId\"].values\n",
    "imgs = y_test[\"Path\"].values\n",
    "data=[]\n",
    "\n",
    "for img in imgs:\n",
    "    image = Image.open(img)\n",
    "    image = image.resize((30,30))\n",
    "    data.append(np.array(image))\n",
    "X_test=np.array(data)\n",
    "\n",
    "pred = model.predict(X_test)\n",
    "\n",
    "np.set_printoptions(precision = 2)\n",
    "\n",
    "pred_classes = np.argmax(pred,axis=1)\n",
    "\n",
    "#Accuracy with the test data\n",
    "from sklearn.metrics import accuracy_score\n",
    "\n",
    "print(accuracy_score(labels, pred_classes))"
   ]
  },
  {
   "cell_type": "code",
   "execution_count": 17,
   "id": "27b7f6b7",
   "metadata": {},
   "outputs": [],
   "source": [
    "model.save('traffic_classifier.h5')"
   ]
  }
 ],
 "metadata": {
  "kernelspec": {
   "display_name": "Python 3 (ipykernel)",
   "language": "python",
   "name": "python3"
  },
  "language_info": {
   "codemirror_mode": {
    "name": "ipython",
    "version": 3
   },
   "file_extension": ".py",
   "mimetype": "text/x-python",
   "name": "python",
   "nbconvert_exporter": "python",
   "pygments_lexer": "ipython3",
   "version": "3.9.7"
  },
  "vscode": {
   "interpreter": {
    "hash": "17ca14f53e592cc8398501bf8ac6526d4ada68ad540b6614a5dc659b6611a75d"
   }
  }
 },
 "nbformat": 4,
 "nbformat_minor": 5
}
